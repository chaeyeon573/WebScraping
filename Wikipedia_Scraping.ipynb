{
  "nbformat": 4,
  "nbformat_minor": 0,
  "metadata": {
    "colab": {
      "provenance": [],
      "authorship_tag": "ABX9TyPOcpu6L8glillAIPA81Aky",
      "include_colab_link": true
    },
    "kernelspec": {
      "name": "python3",
      "display_name": "Python 3"
    },
    "language_info": {
      "name": "python"
    }
  },
  "cells": [
    {
      "cell_type": "markdown",
      "metadata": {
        "id": "view-in-github",
        "colab_type": "text"
      },
      "source": [
        "<a href=\"https://colab.research.google.com/github/chaeyeon573/WebScraping/blob/main/Wikipedia_Scraping.ipynb\" target=\"_parent\"><img src=\"https://colab.research.google.com/assets/colab-badge.svg\" alt=\"Open In Colab\"/></a>"
      ]
    },
    {
      "cell_type": "code",
      "execution_count": 35,
      "metadata": {
        "colab": {
          "base_uri": "https://localhost:8080/",
          "height": 35
        },
        "id": "5xKwSOmZsFZX",
        "outputId": "722fca25-ada5-4fba-b62c-4d446eb4b3df"
      },
      "outputs": [
        {
          "output_type": "display_data",
          "data": {
            "text/plain": [
              "<IPython.core.display.Javascript object>"
            ],
            "application/javascript": [
              "\n",
              "    async function download(id, filename, size) {\n",
              "      if (!google.colab.kernel.accessAllowed) {\n",
              "        return;\n",
              "      }\n",
              "      const div = document.createElement('div');\n",
              "      const label = document.createElement('label');\n",
              "      label.textContent = `Downloading \"${filename}\": `;\n",
              "      div.appendChild(label);\n",
              "      const progress = document.createElement('progress');\n",
              "      progress.max = size;\n",
              "      div.appendChild(progress);\n",
              "      document.body.appendChild(div);\n",
              "\n",
              "      const buffers = [];\n",
              "      let downloaded = 0;\n",
              "\n",
              "      const channel = await google.colab.kernel.comms.open(id);\n",
              "      // Send a message to notify the kernel that we're ready.\n",
              "      channel.send({})\n",
              "\n",
              "      for await (const message of channel.messages) {\n",
              "        // Send a message to notify the kernel that we're ready.\n",
              "        channel.send({})\n",
              "        if (message.buffers) {\n",
              "          for (const buffer of message.buffers) {\n",
              "            buffers.push(buffer);\n",
              "            downloaded += buffer.byteLength;\n",
              "            progress.value = downloaded;\n",
              "          }\n",
              "        }\n",
              "      }\n",
              "      const blob = new Blob(buffers, {type: 'application/binary'});\n",
              "      const a = document.createElement('a');\n",
              "      a.href = window.URL.createObjectURL(blob);\n",
              "      a.download = filename;\n",
              "      div.appendChild(a);\n",
              "      a.click();\n",
              "      div.remove();\n",
              "    }\n",
              "  "
            ]
          },
          "metadata": {}
        },
        {
          "output_type": "display_data",
          "data": {
            "text/plain": [
              "<IPython.core.display.Javascript object>"
            ],
            "application/javascript": [
              "download(\"download_0c7d1153-020b-45bc-a66e-81a98463139a\", \"hockey_table.csv\", 2546)"
            ]
          },
          "metadata": {}
        },
        {
          "output_type": "stream",
          "name": "stdout",
          "text": [
            "Mounted at /content/drive\n"
          ]
        }
      ],
      "source": [
        "import pandas as pd\n",
        "import ssl\n",
        "\n",
        "\n",
        "ssl._create_default_https_context = ssl._create_unverified_context\n",
        "\n",
        "file_path = 'https://en.wikipedia.org/wiki/Hockey'\n",
        "\n",
        "tables = pd.read_html(file_path)\n",
        "# print(len(tables))\n",
        "\n",
        "df = tables[0]\n",
        "\n",
        "\n",
        "df.rename(columns = {'Unnamed: 4_level_1':'Indoor'},level=1,inplace=True)\n",
        "df.rename(columns = {'Unnamed: 5_level_1':'Beach'},level=1,inplace=True)\n",
        "df.rename(columns = {'Unnamed: 6_level_1':'Ice'},level=1,inplace=True)\n",
        "df.rename(columns = {'Unnamed: 7_level_1':'Inline'},level=1,inplace=True)\n",
        "df.rename(columns = {'Unnamed: 8_level_1':'Quad'},level=1,inplace=True)\n",
        "df.rename(columns = {'Ice':'Ice'},level=1,inplace=True)\n",
        "\n",
        "df.drop(index=0)\n",
        "\n",
        "from google.colab import files  # files 모듈 가져오기\n",
        "\n",
        "# DataFrame을 CSV로 저장\n",
        "df.to_csv('hockey_table.csv', index=False)\n",
        "\n",
        "# 파일 다운로드\n",
        "files.download('hockey_table.csv')\n",
        "\n",
        "from google.colab import drive\n",
        "\n",
        "drive.mount('/content/drive')\n",
        "df.to_csv('/content/drive/MyDrive/Colab Notebooks/hockey_table.csv', index=False)\n",
        "\n",
        "\n",
        "\n",
        "\n",
        "# !git config --global user.name \"chaeyeon573\"\n",
        "# !git config --global user.email \"cmdysdntqh08@gmail.com\"\n",
        "\n",
        "# !git add hockey_table.csv\n",
        "# !git commit -m \"Update file\"\n",
        "# !git push origin branch\n",
        "\n",
        "\n"
      ]
    },
    {
      "cell_type": "code",
      "source": [
        "\n",
        "from google.colab import auth\n",
        "auth.authenticate_user()\n",
        "\n",
        "# gcloud SDK로 GitHub 설정\n",
        "!git config --global user.name \"chaeyeon573\"\n",
        "!git config --global user.email \"cmdysdntqh08@gmail.com\"\n",
        "\n",
        "\n",
        "\n",
        "!ssh-keygen -t rsa -b 4096 -C \"cmdysdntqh08@gmail.com\"\n",
        "\n",
        "\n",
        "!cat /root/.ssh/id_rsa.pub\n"
      ],
      "metadata": {
        "colab": {
          "base_uri": "https://localhost:8080/"
        },
        "id": "2pTq1pFW2-UC",
        "outputId": "1aa3baba-fbdc-4a9a-ca32-11e7cdce4e66"
      },
      "execution_count": 37,
      "outputs": [
        {
          "output_type": "stream",
          "name": "stdout",
          "text": [
            "Generating public/private rsa key pair.\n",
            "Enter file in which to save the key (/root/.ssh/id_rsa): \n",
            "Created directory '/root/.ssh'.\n",
            "Enter passphrase (empty for no passphrase): \n",
            "Enter same passphrase again: \n",
            "Your identification has been saved in /root/.ssh/id_rsa\n",
            "Your public key has been saved in /root/.ssh/id_rsa.pub\n",
            "The key fingerprint is:\n",
            "SHA256:dVyx2SnrIF3Zl8Xn5+DTWsIVan6385NLuXMxMxqucPs cmdysdntqh08@gmail.com\n",
            "The key's randomart image is:\n",
            "+---[RSA 4096]----+\n",
            "|              oo.|\n",
            "|           . .o=*|\n",
            "|          . o++==|\n",
            "|         ....o+ =|\n",
            "|        S. oo+ =.|\n",
            "|          . oo=**|\n",
            "|         . ...+BO|\n",
            "|          o .oo*o|\n",
            "|           ooE oO|\n",
            "+----[SHA256]-----+\n",
            "ssh-rsa AAAAB3NzaC1yc2EAAAADAQABAAACAQCfqrKieJmB+1OSk49GXDivSnPiUK3b0zu4QFynPNh54OMnmu/DgRV8XBq3bnBg1ChU3k64xkqitO7vz4bUbFXXg94PWSVoP7XXIRaWIQ2/KLNeC72Jmfn5OYo654Z1daYM9T9iEfrNrvNzjkVDi0AC7+/8S0vu+a4eK/Lwp7DmzwoUIHDm71CrJI02lwif0D0jCePQfNIO4hn+DC3kMXMCO42uOGhgBTGXLMoy1p5trJzPmXTuuSHT0tmeKyE0l2KxaFd15+V5NvkF87nP5VbGaTUaz9Yo9CrpfLa9VYauP+8OwvqR/FXTMua4dQ17rzZMZKBX2+m5Nkg0KMPgYkIasYz0nn+WLYXl0S83VZ8TXgMSjQ+TANKHrxSUw8Aprcx0HpZbaKYfw9hA+E+gQsjjUO6fs/00IzuTnHIUo3AQbl6lfGCFu3ElgwibDqO5E7d4AI2D87eWVLxW4gkX8GgWe/4MRL/ViQT3hqx3CdPdldxdHxD7oEwND12/4JmGpdbjzj28uWzW4jAw4BO4Ac5BIl6slDsh88v0o5Tyqp7g3IrHARvOcBpImpTpOiogeP5jLNENcFLLH2a3FwZezYUXtagZii2v6oyjlKE/BOQof/O9Q4s7zQxvEgcaUjrmHCss9zfjHBKsULNhyL9oC7YVJ3Dt5Qi33lpsSk5m4C0IFQ== cmdysdntqh08@gmail.com\n"
          ]
        }
      ]
    },
    {
      "cell_type": "code",
      "source": [
        "!cat /root/.ssh/id_rsa.pub\n"
      ],
      "metadata": {
        "colab": {
          "base_uri": "https://localhost:8080/"
        },
        "id": "QevepGNy35uU",
        "outputId": "d869e383-8552-4f64-b9bd-6865e80e23fa"
      },
      "execution_count": 38,
      "outputs": [
        {
          "output_type": "stream",
          "name": "stdout",
          "text": [
            "ssh-rsa AAAAB3NzaC1yc2EAAAADAQABAAACAQCfqrKieJmB+1OSk49GXDivSnPiUK3b0zu4QFynPNh54OMnmu/DgRV8XBq3bnBg1ChU3k64xkqitO7vz4bUbFXXg94PWSVoP7XXIRaWIQ2/KLNeC72Jmfn5OYo654Z1daYM9T9iEfrNrvNzjkVDi0AC7+/8S0vu+a4eK/Lwp7DmzwoUIHDm71CrJI02lwif0D0jCePQfNIO4hn+DC3kMXMCO42uOGhgBTGXLMoy1p5trJzPmXTuuSHT0tmeKyE0l2KxaFd15+V5NvkF87nP5VbGaTUaz9Yo9CrpfLa9VYauP+8OwvqR/FXTMua4dQ17rzZMZKBX2+m5Nkg0KMPgYkIasYz0nn+WLYXl0S83VZ8TXgMSjQ+TANKHrxSUw8Aprcx0HpZbaKYfw9hA+E+gQsjjUO6fs/00IzuTnHIUo3AQbl6lfGCFu3ElgwibDqO5E7d4AI2D87eWVLxW4gkX8GgWe/4MRL/ViQT3hqx3CdPdldxdHxD7oEwND12/4JmGpdbjzj28uWzW4jAw4BO4Ac5BIl6slDsh88v0o5Tyqp7g3IrHARvOcBpImpTpOiogeP5jLNENcFLLH2a3FwZezYUXtagZii2v6oyjlKE/BOQof/O9Q4s7zQxvEgcaUjrmHCss9zfjHBKsULNhyL9oC7YVJ3Dt5Qi33lpsSk5m4C0IFQ== cmdysdntqh08@gmail.com\n"
          ]
        }
      ]
    },
    {
      "cell_type": "code",
      "source": [
        "!ssh -T git@github.com\n"
      ],
      "metadata": {
        "colab": {
          "base_uri": "https://localhost:8080/"
        },
        "id": "2brBSQrU3-o7",
        "outputId": "3f39adc3-8651-48fe-8ec1-e1311979a463"
      },
      "execution_count": 43,
      "outputs": [
        {
          "output_type": "stream",
          "name": "stdout",
          "text": [
            "Hi chaeyeon573! You've successfully authenticated, but GitHub does not provide shell access.\n"
          ]
        }
      ]
    },
    {
      "cell_type": "code",
      "source": [
        "!ssh-keyscan -t rsa github.com >> ~/.ssh/known_hosts\n"
      ],
      "metadata": {
        "colab": {
          "base_uri": "https://localhost:8080/"
        },
        "id": "zeLiTyti5mGj",
        "outputId": "aa164ab1-b6b7-4b19-8191-c16b13357106"
      },
      "execution_count": 41,
      "outputs": [
        {
          "output_type": "stream",
          "name": "stdout",
          "text": [
            "# github.com:22 SSH-2.0-159e461a3\n"
          ]
        }
      ]
    },
    {
      "cell_type": "code",
      "source": [
        "!cat ~/.ssh/known_hosts\n"
      ],
      "metadata": {
        "colab": {
          "base_uri": "https://localhost:8080/"
        },
        "id": "CV45utIN5xAo",
        "outputId": "08c7940b-1aa7-43dd-d66c-c3d02de9a4d1"
      },
      "execution_count": 42,
      "outputs": [
        {
          "output_type": "stream",
          "name": "stdout",
          "text": [
            "github.com ssh-rsa AAAAB3NzaC1yc2EAAAADAQABAAABgQCj7ndNxQowgcQnjshcLrqPEiiphnt+VTTvDP6mHBL9j1aNUkY4Ue1gvwnGLVlOhGeYrnZaMgRK6+PKCUXaDbC7qtbW8gIkhL7aGCsOr/C56SJMy/BCZfxd1nWzAOxSDPgVsmerOBYfNqltV9/hWCqBywINIR+5dIg6JTJ72pcEpEjcYgXkE2YEFXV1JHnsKgbLWNlhScqb2UmyRkQyytRLtL+38TGxkxCflmO+5Z8CSSNY7GidjMIZ7Q4zMjA2n1nGrlTDkzwDCsw+wqFPGQA179cnfGWOWRVruj16z6XyvxvjJwbz0wQZ75XK5tKSb7FNyeIEs4TT4jk+S4dhPeAUC5y+bDYirYgM4GC7uEnztnZyaVWQ7B381AK4Qdrwt51ZqExKbQpTUNn+EjqoTwvqNj4kqx5QUCI0ThS/YkOxJCXmPUWZbhjpCg56i+2aB6CmK2JGhn57K5mj0MNdBXA4/WnwH6XoPWJzK5Nyu2zB3nAZp+S5hpQs+p1vN1/wsjk=\n"
          ]
        }
      ]
    },
    {
      "cell_type": "markdown",
      "source": [],
      "metadata": {
        "id": "LfTa_5Lx3X5h"
      }
    }
  ]
}